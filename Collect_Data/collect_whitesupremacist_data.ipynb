{
 "cells": [
  {
   "cell_type": "code",
   "execution_count": 5,
   "metadata": {},
   "outputs": [],
   "source": [
    "import numpy as np\n",
    "import pandas as pd\n",
    "from typing import List, Tuple, Union\n",
    "import glob\n",
    "import os "
   ]
  },
  {
   "cell_type": "code",
   "execution_count": 3,
   "metadata": {},
   "outputs": [
    {
     "name": "stdout",
     "output_type": "stream",
     "text": [
      "Cloning into 'hate-speech-dataset'...\n",
      "remote: Enumerating objects: 10785, done.\u001b[K\n",
      "remote: Counting objects: 100% (14/14), done.\u001b[K\n",
      "remote: Compressing objects: 100% (14/14), done.\u001b[K\n",
      "remote: Total 10785 (delta 6), reused 0 (delta 0), pack-reused 10771\u001b[K\n",
      "Receiving objects: 100% (10785/10785), 1.16 MiB | 1.97 MiB/s, done.\n",
      "Resolving deltas: 100% (9/9), done.\n",
      "Updating files: 100% (13339/13339), done.\n",
      "/Users/arasdirekoglu/opt/anaconda3/envs/dscience/bin/python: Error while finding module specification for 'textblob.download_corpora' (ModuleNotFoundError: No module named 'textblob')\n"
     ]
    }
   ],
   "source": [
    "# dataset git repo\n",
    "if not os.path.exists(\"hate-speech-dataset\"):\n",
    "  !git clone https://github.com/Vicomtech/hate-speech-dataset.git\n",
    "    \n",
    "!python -m textblob.download_corpora"
   ]
  },
  {
   "cell_type": "code",
   "execution_count": 6,
   "metadata": {},
   "outputs": [],
   "source": [
    "def readData(paths: List[str], group: str):\n",
    "    pairs = []\n",
    "    for p in paths:\n",
    "        with open(p) as f:\n",
    "            file_id = p.split('/')[-1].split('.')[0]\n",
    "            pairs.append((file_id, f.read(), group))        \n",
    "    return pd.DataFrame(pairs, columns=[\"file_id\", \"text\", \"gSet\"])"
   ]
  },
  {
   "cell_type": "code",
   "execution_count": 7,
   "metadata": {},
   "outputs": [],
   "source": [
    "idLabels = pd.read_csv('hate-speech-dataset/annotations_metadata.csv')[[\"file_id\", \"label\"]]"
   ]
  },
  {
   "cell_type": "code",
   "execution_count": 9,
   "metadata": {},
   "outputs": [
    {
     "name": "stdout",
     "output_type": "stream",
     "text": [
      "Train dataset:\n",
      "noHate    957\n",
      "hate      957\n",
      "Name: label, dtype: int64 \n",
      "\n",
      "Test dataset:\n",
      "noHate    239\n",
      "hate      239\n",
      "Name: label, dtype: int64 \n",
      "\n",
      "Total datase shape:\n",
      "(2392, 4)\n"
     ]
    },
    {
     "name": "stderr",
     "output_type": "stream",
     "text": [
      "/var/folders/bs/ht_t1wp94tl3wt5xhchcxq2m0000gn/T/ipykernel_10441/450055070.py:7: FutureWarning: The frame.append method is deprecated and will be removed from pandas in a future version. Use pandas.concat instead.\n",
      "  combDf = trainDf.append(testDf).reset_index(drop=True)\n"
     ]
    },
    {
     "data": {
      "text/html": [
       "<div>\n",
       "<style scoped>\n",
       "    .dataframe tbody tr th:only-of-type {\n",
       "        vertical-align: middle;\n",
       "    }\n",
       "\n",
       "    .dataframe tbody tr th {\n",
       "        vertical-align: top;\n",
       "    }\n",
       "\n",
       "    .dataframe thead th {\n",
       "        text-align: right;\n",
       "    }\n",
       "</style>\n",
       "<table border=\"1\" class=\"dataframe\">\n",
       "  <thead>\n",
       "    <tr style=\"text-align: right;\">\n",
       "      <th></th>\n",
       "      <th>file_id</th>\n",
       "      <th>text</th>\n",
       "      <th>gSet</th>\n",
       "      <th>label</th>\n",
       "    </tr>\n",
       "  </thead>\n",
       "  <tbody>\n",
       "    <tr>\n",
       "      <th>0</th>\n",
       "      <td>14651837_4</td>\n",
       "      <td>Ready .... GO !!!</td>\n",
       "      <td>train</td>\n",
       "      <td>noHate</td>\n",
       "    </tr>\n",
       "    <tr>\n",
       "      <th>1</th>\n",
       "      <td>31713873_1</td>\n",
       "      <td>If i sent you some pic wound use be able to pu...</td>\n",
       "      <td>train</td>\n",
       "      <td>noHate</td>\n",
       "    </tr>\n",
       "    <tr>\n",
       "      <th>2</th>\n",
       "      <td>30586609_1</td>\n",
       "      <td>ALWAYS SPEAK OUT WHEN IN A CLASS WITH A BRAINW...</td>\n",
       "      <td>train</td>\n",
       "      <td>noHate</td>\n",
       "    </tr>\n",
       "    <tr>\n",
       "      <th>3</th>\n",
       "      <td>14673212_2</td>\n",
       "      <td>They fit the same DNA as the DNA found in anci...</td>\n",
       "      <td>train</td>\n",
       "      <td>noHate</td>\n",
       "    </tr>\n",
       "    <tr>\n",
       "      <th>4</th>\n",
       "      <td>33222250_1</td>\n",
       "      <td>I would not be surprised if this woman was spe...</td>\n",
       "      <td>train</td>\n",
       "      <td>hate</td>\n",
       "    </tr>\n",
       "  </tbody>\n",
       "</table>\n",
       "</div>"
      ],
      "text/plain": [
       "      file_id                                               text   gSet  \\\n",
       "0  14651837_4                                  Ready .... GO !!!  train   \n",
       "1  31713873_1  If i sent you some pic wound use be able to pu...  train   \n",
       "2  30586609_1  ALWAYS SPEAK OUT WHEN IN A CLASS WITH A BRAINW...  train   \n",
       "3  14673212_2  They fit the same DNA as the DNA found in anci...  train   \n",
       "4  33222250_1  I would not be surprised if this woman was spe...  train   \n",
       "\n",
       "    label  \n",
       "0  noHate  \n",
       "1  noHate  \n",
       "2  noHate  \n",
       "3  noHate  \n",
       "4    hate  "
      ]
     },
     "execution_count": 9,
     "metadata": {},
     "output_type": "execute_result"
    }
   ],
   "source": [
    "trainDf = readData(glob.glob('./hate-speech-dataset/sampled_train/*.txt'), 'train')\n",
    "testDf = readData(glob.glob('./hate-speech-dataset/sampled_test/*.txt'), 'test')\n",
    "\n",
    "trainDf = trainDf.join(idLabels.set_index('file_id'), on='file_id')\n",
    "testDf = testDf.join(idLabels.set_index('file_id'), on='file_id')\n",
    "\n",
    "combDf = trainDf.append(testDf).reset_index(drop=True)\n",
    "\n",
    "# print label distributions\n",
    "print(\"Train dataset:\")\n",
    "print(trainDf['label'].value_counts(), \"\\n\")\n",
    "print(\"Test dataset:\")\n",
    "print(testDf['label'].value_counts(), \"\\n\")\n",
    "\n",
    "print(\"Total datase shape:\")\n",
    "print(combDf.shape)\n",
    "combDf.head()"
   ]
  },
  {
   "cell_type": "code",
   "execution_count": 10,
   "metadata": {},
   "outputs": [],
   "source": [
    "df = combDf[['text', 'label']]"
   ]
  },
  {
   "cell_type": "code",
   "execution_count": 11,
   "metadata": {},
   "outputs": [
    {
     "data": {
      "text/html": [
       "<div>\n",
       "<style scoped>\n",
       "    .dataframe tbody tr th:only-of-type {\n",
       "        vertical-align: middle;\n",
       "    }\n",
       "\n",
       "    .dataframe tbody tr th {\n",
       "        vertical-align: top;\n",
       "    }\n",
       "\n",
       "    .dataframe thead th {\n",
       "        text-align: right;\n",
       "    }\n",
       "</style>\n",
       "<table border=\"1\" class=\"dataframe\">\n",
       "  <thead>\n",
       "    <tr style=\"text-align: right;\">\n",
       "      <th></th>\n",
       "      <th>text</th>\n",
       "      <th>label</th>\n",
       "    </tr>\n",
       "  </thead>\n",
       "  <tbody>\n",
       "    <tr>\n",
       "      <th>0</th>\n",
       "      <td>Ready .... GO !!!</td>\n",
       "      <td>noHate</td>\n",
       "    </tr>\n",
       "    <tr>\n",
       "      <th>1</th>\n",
       "      <td>If i sent you some pic wound use be able to pu...</td>\n",
       "      <td>noHate</td>\n",
       "    </tr>\n",
       "    <tr>\n",
       "      <th>2</th>\n",
       "      <td>ALWAYS SPEAK OUT WHEN IN A CLASS WITH A BRAINW...</td>\n",
       "      <td>noHate</td>\n",
       "    </tr>\n",
       "    <tr>\n",
       "      <th>3</th>\n",
       "      <td>They fit the same DNA as the DNA found in anci...</td>\n",
       "      <td>noHate</td>\n",
       "    </tr>\n",
       "    <tr>\n",
       "      <th>4</th>\n",
       "      <td>I would not be surprised if this woman was spe...</td>\n",
       "      <td>hate</td>\n",
       "    </tr>\n",
       "  </tbody>\n",
       "</table>\n",
       "</div>"
      ],
      "text/plain": [
       "                                                text   label\n",
       "0                                  Ready .... GO !!!  noHate\n",
       "1  If i sent you some pic wound use be able to pu...  noHate\n",
       "2  ALWAYS SPEAK OUT WHEN IN A CLASS WITH A BRAINW...  noHate\n",
       "3  They fit the same DNA as the DNA found in anci...  noHate\n",
       "4  I would not be surprised if this woman was spe...    hate"
      ]
     },
     "execution_count": 11,
     "metadata": {},
     "output_type": "execute_result"
    }
   ],
   "source": [
    "df.head()"
   ]
  },
  {
   "cell_type": "code",
   "execution_count": 13,
   "metadata": {},
   "outputs": [],
   "source": [
    "df.to_csv('whitesupremacist_hatespeech.csv', index=False)"
   ]
  }
 ],
 "metadata": {
  "kernelspec": {
   "display_name": "Python 3.9.13 ('dscience')",
   "language": "python",
   "name": "python3"
  },
  "language_info": {
   "codemirror_mode": {
    "name": "ipython",
    "version": 3
   },
   "file_extension": ".py",
   "mimetype": "text/x-python",
   "name": "python",
   "nbconvert_exporter": "python",
   "pygments_lexer": "ipython3",
   "version": "3.9.13"
  },
  "orig_nbformat": 4,
  "vscode": {
   "interpreter": {
    "hash": "3078b67b691a5c266f6971fd9f463b4eac2178879712276f7d11f0f0eb816c78"
   }
  }
 },
 "nbformat": 4,
 "nbformat_minor": 2
}
