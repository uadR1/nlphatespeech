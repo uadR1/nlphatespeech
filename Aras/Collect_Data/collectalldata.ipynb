{
 "cells": [
  {
   "cell_type": "code",
   "execution_count": 72,
   "metadata": {},
   "outputs": [],
   "source": [
    "import pandas as pd "
   ]
  },
  {
   "cell_type": "markdown",
   "metadata": {},
   "source": [
    "# Implicit Hate"
   ]
  },
  {
   "cell_type": "code",
   "execution_count": 73,
   "metadata": {},
   "outputs": [
    {
     "data": {
      "text/html": [
       "<div>\n",
       "<style scoped>\n",
       "    .dataframe tbody tr th:only-of-type {\n",
       "        vertical-align: middle;\n",
       "    }\n",
       "\n",
       "    .dataframe tbody tr th {\n",
       "        vertical-align: top;\n",
       "    }\n",
       "\n",
       "    .dataframe thead th {\n",
       "        text-align: right;\n",
       "    }\n",
       "</style>\n",
       "<table border=\"1\" class=\"dataframe\">\n",
       "  <thead>\n",
       "    <tr style=\"text-align: right;\">\n",
       "      <th></th>\n",
       "      <th>post</th>\n",
       "      <th>class</th>\n",
       "    </tr>\n",
       "  </thead>\n",
       "  <tbody>\n",
       "    <tr>\n",
       "      <th>0</th>\n",
       "      <td>\" : jewish harvard professor noel ignatiev w...</td>\n",
       "      <td>implicit_hate</td>\n",
       "    </tr>\n",
       "    <tr>\n",
       "      <th>1</th>\n",
       "      <td>b.higher education is a part of european cult...</td>\n",
       "      <td>not_hate</td>\n",
       "    </tr>\n",
       "    <tr>\n",
       "      <th>2</th>\n",
       "      <td>has a problem with  \" the whites \" \" and \" \" ...</td>\n",
       "      <td>not_hate</td>\n",
       "    </tr>\n",
       "    <tr>\n",
       "      <th>3</th>\n",
       "      <td>is yasir qadhi a hate preacher for calling ch...</td>\n",
       "      <td>not_hate</td>\n",
       "    </tr>\n",
       "    <tr>\n",
       "      <th>4</th>\n",
       "      <td>rt  \" : how three million germans mass murder...</td>\n",
       "      <td>not_hate</td>\n",
       "    </tr>\n",
       "  </tbody>\n",
       "</table>\n",
       "</div>"
      ],
      "text/plain": [
       "                                                post          class\n",
       "0    \" : jewish harvard professor noel ignatiev w...  implicit_hate\n",
       "1   b.higher education is a part of european cult...       not_hate\n",
       "2   has a problem with  \" the whites \" \" and \" \" ...       not_hate\n",
       "3   is yasir qadhi a hate preacher for calling ch...       not_hate\n",
       "4   rt  \" : how three million germans mass murder...       not_hate"
      ]
     },
     "execution_count": 73,
     "metadata": {},
     "output_type": "execute_result"
    }
   ],
   "source": [
    "# Read Data \n",
    "df_implicit = pd.read_csv('/Users/arasdirekoglu/Documents/Studium/Master/HTW - MPMD/3. Semester/MPMD 3.4. Emerging Technologies & AI/01_Project/00_Data/implicit_hate_v1_stg1_posts.tsv', sep='\\t', index_col=False)\n",
    "df_implicit.head()"
   ]
  },
  {
   "cell_type": "code",
   "execution_count": 74,
   "metadata": {},
   "outputs": [],
   "source": [
    "# Save raw data as csv for further usage\n",
    "df_implicit.to_csv('implicit_hate.csv')"
   ]
  },
  {
   "cell_type": "code",
   "execution_count": 75,
   "metadata": {},
   "outputs": [
    {
     "data": {
      "text/plain": [
       "(21480, 2)"
      ]
     },
     "execution_count": 75,
     "metadata": {},
     "output_type": "execute_result"
    }
   ],
   "source": [
    "# Transform Data for joining all data sources \n",
    "df_implicit = df_implicit.rename(columns={'post':'text', 'class':'label'})\n",
    "\n",
    "# Check shape of data\n",
    "df_implicit.shape  "
   ]
  },
  {
   "cell_type": "code",
   "execution_count": 76,
   "metadata": {},
   "outputs": [
    {
     "data": {
      "text/plain": [
       "not_hate         13291\n",
       "implicit_hate     7100\n",
       "explicit_hate     1089\n",
       "Name: label, dtype: int64"
      ]
     },
     "execution_count": 76,
     "metadata": {},
     "output_type": "execute_result"
    }
   ],
   "source": [
    "# Check value counts\n",
    "df_implicit['label'].value_counts()"
   ]
  },
  {
   "cell_type": "code",
   "execution_count": 77,
   "metadata": {},
   "outputs": [
    {
     "data": {
      "text/html": [
       "<div>\n",
       "<style scoped>\n",
       "    .dataframe tbody tr th:only-of-type {\n",
       "        vertical-align: middle;\n",
       "    }\n",
       "\n",
       "    .dataframe tbody tr th {\n",
       "        vertical-align: top;\n",
       "    }\n",
       "\n",
       "    .dataframe thead th {\n",
       "        text-align: right;\n",
       "    }\n",
       "</style>\n",
       "<table border=\"1\" class=\"dataframe\">\n",
       "  <thead>\n",
       "    <tr style=\"text-align: right;\">\n",
       "      <th></th>\n",
       "      <th>text</th>\n",
       "      <th>label</th>\n",
       "    </tr>\n",
       "  </thead>\n",
       "  <tbody>\n",
       "    <tr>\n",
       "      <th>8</th>\n",
       "      <td>rt crooked hillary you didn't lose because yo...</td>\n",
       "      <td>explicit_hate</td>\n",
       "    </tr>\n",
       "    <tr>\n",
       "      <th>9</th>\n",
       "      <td>rt estonian pm :  \" i don't want blacks in es...</td>\n",
       "      <td>explicit_hate</td>\n",
       "    </tr>\n",
       "    <tr>\n",
       "      <th>34</th>\n",
       "      <td>are a bunch of religious bigots . i hope you e...</td>\n",
       "      <td>explicit_hate</td>\n",
       "    </tr>\n",
       "    <tr>\n",
       "      <th>45</th>\n",
       "      <td>hamas is the only one who lies and all those l...</td>\n",
       "      <td>explicit_hate</td>\n",
       "    </tr>\n",
       "    <tr>\n",
       "      <th>65</th>\n",
       "      <td>one of the questions never asked : if africans...</td>\n",
       "      <td>explicit_hate</td>\n",
       "    </tr>\n",
       "    <tr>\n",
       "      <th>73</th>\n",
       "      <td>the biggest racist in uk politics - diane i ha...</td>\n",
       "      <td>explicit_hate</td>\n",
       "    </tr>\n",
       "    <tr>\n",
       "      <th>75</th>\n",
       "      <td>the uncultured and uncivilized men from cental...</td>\n",
       "      <td>explicit_hate</td>\n",
       "    </tr>\n",
       "    <tr>\n",
       "      <th>90</th>\n",
       "      <td>your ugly white cis male scum . your what's wr...</td>\n",
       "      <td>explicit_hate</td>\n",
       "    </tr>\n",
       "    <tr>\n",
       "      <th>98</th>\n",
       "      <td>\" by the quran  we will kill you all  you fa...</td>\n",
       "      <td>explicit_hate</td>\n",
       "    </tr>\n",
       "    <tr>\n",
       "      <th>164</th>\n",
       "      <td>this is lame  where's the creativity ? and wh...</td>\n",
       "      <td>explicit_hate</td>\n",
       "    </tr>\n",
       "  </tbody>\n",
       "</table>\n",
       "</div>"
      ],
      "text/plain": [
       "                                                  text          label\n",
       "8     rt crooked hillary you didn't lose because yo...  explicit_hate\n",
       "9     rt estonian pm :  \" i don't want blacks in es...  explicit_hate\n",
       "34   are a bunch of religious bigots . i hope you e...  explicit_hate\n",
       "45   hamas is the only one who lies and all those l...  explicit_hate\n",
       "65   one of the questions never asked : if africans...  explicit_hate\n",
       "73   the biggest racist in uk politics - diane i ha...  explicit_hate\n",
       "75   the uncultured and uncivilized men from cental...  explicit_hate\n",
       "90   your ugly white cis male scum . your what's wr...  explicit_hate\n",
       "98     \" by the quran  we will kill you all  you fa...  explicit_hate\n",
       "164   this is lame  where's the creativity ? and wh...  explicit_hate"
      ]
     },
     "execution_count": 77,
     "metadata": {},
     "output_type": "execute_result"
    }
   ],
   "source": [
    "# Examples explicit_hate \n",
    "df_implicit[df_implicit['label'] == 'explicit_hate'].head(10)"
   ]
  },
  {
   "cell_type": "code",
   "execution_count": 83,
   "metadata": {},
   "outputs": [],
   "source": [
    "sample_implicit = df_implicit[df_implicit['label'] == 'not_hate'].sample(n=100, random_state=4)\n",
    "sample_implicit.to_csv('sample_implicit.csv')"
   ]
  },
  {
   "cell_type": "markdown",
   "metadata": {},
   "source": [
    "# Tweets - Offensive Language / Hate Speech"
   ]
  },
  {
   "cell_type": "code",
   "execution_count": 78,
   "metadata": {},
   "outputs": [
    {
     "data": {
      "text/html": [
       "<div>\n",
       "<style scoped>\n",
       "    .dataframe tbody tr th:only-of-type {\n",
       "        vertical-align: middle;\n",
       "    }\n",
       "\n",
       "    .dataframe tbody tr th {\n",
       "        vertical-align: top;\n",
       "    }\n",
       "\n",
       "    .dataframe thead th {\n",
       "        text-align: right;\n",
       "    }\n",
       "</style>\n",
       "<table border=\"1\" class=\"dataframe\">\n",
       "  <thead>\n",
       "    <tr style=\"text-align: right;\">\n",
       "      <th></th>\n",
       "      <th>Unnamed: 0</th>\n",
       "      <th>count</th>\n",
       "      <th>hate_speech</th>\n",
       "      <th>offensive_language</th>\n",
       "      <th>neither</th>\n",
       "      <th>class</th>\n",
       "      <th>tweet</th>\n",
       "    </tr>\n",
       "  </thead>\n",
       "  <tbody>\n",
       "    <tr>\n",
       "      <th>0</th>\n",
       "      <td>0</td>\n",
       "      <td>3</td>\n",
       "      <td>0</td>\n",
       "      <td>0</td>\n",
       "      <td>3</td>\n",
       "      <td>2</td>\n",
       "      <td>!!! RT @mayasolovely: As a woman you shouldn't...</td>\n",
       "    </tr>\n",
       "    <tr>\n",
       "      <th>1</th>\n",
       "      <td>1</td>\n",
       "      <td>3</td>\n",
       "      <td>0</td>\n",
       "      <td>3</td>\n",
       "      <td>0</td>\n",
       "      <td>1</td>\n",
       "      <td>!!!!! RT @mleew17: boy dats cold...tyga dwn ba...</td>\n",
       "    </tr>\n",
       "    <tr>\n",
       "      <th>2</th>\n",
       "      <td>2</td>\n",
       "      <td>3</td>\n",
       "      <td>0</td>\n",
       "      <td>3</td>\n",
       "      <td>0</td>\n",
       "      <td>1</td>\n",
       "      <td>!!!!!!! RT @UrKindOfBrand Dawg!!!! RT @80sbaby...</td>\n",
       "    </tr>\n",
       "    <tr>\n",
       "      <th>3</th>\n",
       "      <td>3</td>\n",
       "      <td>3</td>\n",
       "      <td>0</td>\n",
       "      <td>2</td>\n",
       "      <td>1</td>\n",
       "      <td>1</td>\n",
       "      <td>!!!!!!!!! RT @C_G_Anderson: @viva_based she lo...</td>\n",
       "    </tr>\n",
       "    <tr>\n",
       "      <th>4</th>\n",
       "      <td>4</td>\n",
       "      <td>6</td>\n",
       "      <td>0</td>\n",
       "      <td>6</td>\n",
       "      <td>0</td>\n",
       "      <td>1</td>\n",
       "      <td>!!!!!!!!!!!!! RT @ShenikaRoberts: The shit you...</td>\n",
       "    </tr>\n",
       "  </tbody>\n",
       "</table>\n",
       "</div>"
      ],
      "text/plain": [
       "   Unnamed: 0  count  hate_speech  offensive_language  neither  class  \\\n",
       "0           0      3            0                   0        3      2   \n",
       "1           1      3            0                   3        0      1   \n",
       "2           2      3            0                   3        0      1   \n",
       "3           3      3            0                   2        1      1   \n",
       "4           4      6            0                   6        0      1   \n",
       "\n",
       "                                               tweet  \n",
       "0  !!! RT @mayasolovely: As a woman you shouldn't...  \n",
       "1  !!!!! RT @mleew17: boy dats cold...tyga dwn ba...  \n",
       "2  !!!!!!! RT @UrKindOfBrand Dawg!!!! RT @80sbaby...  \n",
       "3  !!!!!!!!! RT @C_G_Anderson: @viva_based she lo...  \n",
       "4  !!!!!!!!!!!!! RT @ShenikaRoberts: The shit you...  "
      ]
     },
     "execution_count": 78,
     "metadata": {},
     "output_type": "execute_result"
    }
   ],
   "source": [
    "# Read & Display Data \n",
    "df_tweets = pd.read_csv('tweets_hatespeech.csv')\n",
    "df_tweets.head()\n",
    "# 0 - hate speech 1 - offensive language 2 - neither"
   ]
  },
  {
   "cell_type": "code",
   "execution_count": 79,
   "metadata": {},
   "outputs": [
    {
     "data": {
      "text/plain": [
       "(24783, 2)"
      ]
     },
     "execution_count": 79,
     "metadata": {},
     "output_type": "execute_result"
    }
   ],
   "source": [
    "# Transform Data for joining all data sources \n",
    "df_tweets = df_tweets[['tweet', 'class']]\n",
    "df_tweets = df_tweets.rename(columns={'tweet':'text', 'class':'label'})\n",
    "\n",
    "# Bring into same labels \n",
    "df_tweets['label'] = df_tweets['label'].astype(str)\n",
    "df_tweets['label'] = df_tweets['label'].replace(str(0), 'explicit_hate')\n",
    "df_tweets['label'] = df_tweets['label'].replace(str(1), 'offensive_language')\n",
    "df_tweets['label'] = df_tweets['label'].replace(str(2), 'not_hate')\n",
    "\n",
    "# Check shape of data\n",
    "df_tweets.shape"
   ]
  },
  {
   "cell_type": "code",
   "execution_count": 49,
   "metadata": {},
   "outputs": [
    {
     "data": {
      "text/plain": [
       "explicit_hate          1430\n",
       "not_hate               4163\n",
       "offensive_language    19190\n",
       "Name: label, dtype: int64"
      ]
     },
     "execution_count": 49,
     "metadata": {},
     "output_type": "execute_result"
    }
   ],
   "source": [
    "# Check value counts\n",
    "df_tweets.label.value_counts().sort_index() # 0 - hate speech 1 - offensive language 2 - neither"
   ]
  },
  {
   "cell_type": "code",
   "execution_count": null,
   "metadata": {},
   "outputs": [],
   "source": []
  },
  {
   "cell_type": "markdown",
   "metadata": {},
   "source": [
    "# Whitesupremacist Forum / Hatespeech - No Hate Speech"
   ]
  },
  {
   "cell_type": "code",
   "execution_count": 50,
   "metadata": {},
   "outputs": [
    {
     "data": {
      "text/html": [
       "<div>\n",
       "<style scoped>\n",
       "    .dataframe tbody tr th:only-of-type {\n",
       "        vertical-align: middle;\n",
       "    }\n",
       "\n",
       "    .dataframe tbody tr th {\n",
       "        vertical-align: top;\n",
       "    }\n",
       "\n",
       "    .dataframe thead th {\n",
       "        text-align: right;\n",
       "    }\n",
       "</style>\n",
       "<table border=\"1\" class=\"dataframe\">\n",
       "  <thead>\n",
       "    <tr style=\"text-align: right;\">\n",
       "      <th></th>\n",
       "      <th>file_id</th>\n",
       "      <th>text</th>\n",
       "      <th>gSet</th>\n",
       "      <th>label</th>\n",
       "    </tr>\n",
       "  </thead>\n",
       "  <tbody>\n",
       "    <tr>\n",
       "      <th>0</th>\n",
       "      <td>13458115_2</td>\n",
       "      <td>It 's like that at most public boards .</td>\n",
       "      <td>all</td>\n",
       "      <td>noHate</td>\n",
       "    </tr>\n",
       "    <tr>\n",
       "      <th>1</th>\n",
       "      <td>13367480_1</td>\n",
       "      <td>I wonder if one of the victims opened the door...</td>\n",
       "      <td>all</td>\n",
       "      <td>noHate</td>\n",
       "    </tr>\n",
       "    <tr>\n",
       "      <th>2</th>\n",
       "      <td>30422449_1</td>\n",
       "      <td>Some people believe the Jack O ' Lantern also ...</td>\n",
       "      <td>all</td>\n",
       "      <td>noHate</td>\n",
       "    </tr>\n",
       "    <tr>\n",
       "      <th>3</th>\n",
       "      <td>14651837_4</td>\n",
       "      <td>Ready .... GO !!!</td>\n",
       "      <td>all</td>\n",
       "      <td>noHate</td>\n",
       "    </tr>\n",
       "    <tr>\n",
       "      <th>4</th>\n",
       "      <td>30527903_3</td>\n",
       "      <td>Thanks !</td>\n",
       "      <td>all</td>\n",
       "      <td>noHate</td>\n",
       "    </tr>\n",
       "  </tbody>\n",
       "</table>\n",
       "</div>"
      ],
      "text/plain": [
       "      file_id                                               text gSet   label\n",
       "0  13458115_2            It 's like that at most public boards .  all  noHate\n",
       "1  13367480_1  I wonder if one of the victims opened the door...  all  noHate\n",
       "2  30422449_1  Some people believe the Jack O ' Lantern also ...  all  noHate\n",
       "3  14651837_4                                  Ready .... GO !!!  all  noHate\n",
       "4  30527903_3                                           Thanks !  all  noHate"
      ]
     },
     "execution_count": 50,
     "metadata": {},
     "output_type": "execute_result"
    }
   ],
   "source": [
    "# Read and display Data\n",
    "df_ws = pd.read_csv('whitesupremacist_hatespeech.csv')\n",
    "df_ws.head()"
   ]
  },
  {
   "cell_type": "code",
   "execution_count": 51,
   "metadata": {},
   "outputs": [
    {
     "data": {
      "text/plain": [
       "(10944, 2)"
      ]
     },
     "execution_count": 51,
     "metadata": {},
     "output_type": "execute_result"
    }
   ],
   "source": [
    "# Transform Data for joining all data sources \n",
    "df_ws = df_ws[['text', 'label']]\n",
    "\n",
    "# Bring into same labels \n",
    "df_ws['label'] = df_ws['label'].replace(str('noHate'), 'not_hate')\n",
    "df_ws['label'] = df_ws['label'].replace(str('hate'), 'explicit_hate')\n",
    "df_ws['label'] = df_ws['label'].replace(str('idk/skip'), 'unclear')\n",
    "\n",
    "# Check shape of data\n",
    "df_ws.shape"
   ]
  },
  {
   "cell_type": "code",
   "execution_count": 52,
   "metadata": {},
   "outputs": [
    {
     "data": {
      "text/plain": [
       "not_hate         9507\n",
       "explicit_hate    1196\n",
       "relation          168\n",
       "unclear            73\n",
       "Name: label, dtype: int64"
      ]
     },
     "execution_count": 52,
     "metadata": {},
     "output_type": "execute_result"
    }
   ],
   "source": [
    "# Check value counts\n",
    "df_ws.label.value_counts()"
   ]
  },
  {
   "cell_type": "markdown",
   "metadata": {},
   "source": [
    "# Join all sources "
   ]
  },
  {
   "cell_type": "code",
   "execution_count": 54,
   "metadata": {},
   "outputs": [
    {
     "data": {
      "text/plain": [
       "(57207, 2)"
      ]
     },
     "execution_count": 54,
     "metadata": {},
     "output_type": "execute_result"
    }
   ],
   "source": [
    "# Join all sources \n",
    "df_all = pd.concat([df_ws, df_implicit, df_tweets], ignore_index=True)\n",
    "\n",
    "# Check shape of final data \n",
    "df_all.shape"
   ]
  },
  {
   "cell_type": "code",
   "execution_count": 55,
   "metadata": {},
   "outputs": [
    {
     "data": {
      "text/plain": [
       "not_hate              26961\n",
       "offensive_language    19190\n",
       "implicit_hate          7100\n",
       "explicit_hate          3715\n",
       "relation                168\n",
       "unclear                  73\n",
       "Name: label, dtype: int64"
      ]
     },
     "execution_count": 55,
     "metadata": {},
     "output_type": "execute_result"
    }
   ],
   "source": [
    "# Check frequency of labels \n",
    "df_all.label.value_counts()"
   ]
  },
  {
   "cell_type": "code",
   "execution_count": 16,
   "metadata": {},
   "outputs": [],
   "source": [
    "# Save as csv for further usage \n",
    "df_all.to_csv('alldata.csv')"
   ]
  },
  {
   "cell_type": "code",
   "execution_count": 56,
   "metadata": {},
   "outputs": [
    {
     "data": {
      "text/html": [
       "<div>\n",
       "<style scoped>\n",
       "    .dataframe tbody tr th:only-of-type {\n",
       "        vertical-align: middle;\n",
       "    }\n",
       "\n",
       "    .dataframe tbody tr th {\n",
       "        vertical-align: top;\n",
       "    }\n",
       "\n",
       "    .dataframe thead th {\n",
       "        text-align: right;\n",
       "    }\n",
       "</style>\n",
       "<table border=\"1\" class=\"dataframe\">\n",
       "  <thead>\n",
       "    <tr style=\"text-align: right;\">\n",
       "      <th></th>\n",
       "      <th>text</th>\n",
       "      <th>label</th>\n",
       "    </tr>\n",
       "  </thead>\n",
       "  <tbody>\n",
       "    <tr>\n",
       "      <th>18</th>\n",
       "      <td>I would not be surprised if this woman was spe...</td>\n",
       "      <td>explicit_hate</td>\n",
       "    </tr>\n",
       "    <tr>\n",
       "      <th>19</th>\n",
       "      <td>If they were jew pieces of garbage who the hel...</td>\n",
       "      <td>explicit_hate</td>\n",
       "    </tr>\n",
       "    <tr>\n",
       "      <th>42</th>\n",
       "      <td>Put that fat Black idiot to work and she would...</td>\n",
       "      <td>explicit_hate</td>\n",
       "    </tr>\n",
       "    <tr>\n",
       "      <th>50</th>\n",
       "      <td>I know exactly what you 're saying , I just ha...</td>\n",
       "      <td>explicit_hate</td>\n",
       "    </tr>\n",
       "    <tr>\n",
       "      <th>69</th>\n",
       "      <td>I am White and I believe all White people know...</td>\n",
       "      <td>explicit_hate</td>\n",
       "    </tr>\n",
       "    <tr>\n",
       "      <th>...</th>\n",
       "      <td>...</td>\n",
       "      <td>...</td>\n",
       "    </tr>\n",
       "    <tr>\n",
       "      <th>57000</th>\n",
       "      <td>this guy is the biggest faggot omfg</td>\n",
       "      <td>explicit_hate</td>\n",
       "    </tr>\n",
       "    <tr>\n",
       "      <th>57109</th>\n",
       "      <td>which one of these names is more offensive kik...</td>\n",
       "      <td>explicit_hate</td>\n",
       "    </tr>\n",
       "    <tr>\n",
       "      <th>57175</th>\n",
       "      <td>you a pussy ass nigga and I know it nigga.</td>\n",
       "      <td>explicit_hate</td>\n",
       "    </tr>\n",
       "    <tr>\n",
       "      <th>57200</th>\n",
       "      <td>you're all niggers</td>\n",
       "      <td>explicit_hate</td>\n",
       "    </tr>\n",
       "    <tr>\n",
       "      <th>57201</th>\n",
       "      <td>you're such a retard i hope you get type 2 dia...</td>\n",
       "      <td>explicit_hate</td>\n",
       "    </tr>\n",
       "  </tbody>\n",
       "</table>\n",
       "<p>3715 rows × 2 columns</p>\n",
       "</div>"
      ],
      "text/plain": [
       "                                                    text          label\n",
       "18     I would not be surprised if this woman was spe...  explicit_hate\n",
       "19     If they were jew pieces of garbage who the hel...  explicit_hate\n",
       "42     Put that fat Black idiot to work and she would...  explicit_hate\n",
       "50     I know exactly what you 're saying , I just ha...  explicit_hate\n",
       "69     I am White and I believe all White people know...  explicit_hate\n",
       "...                                                  ...            ...\n",
       "57000                this guy is the biggest faggot omfg  explicit_hate\n",
       "57109  which one of these names is more offensive kik...  explicit_hate\n",
       "57175         you a pussy ass nigga and I know it nigga.  explicit_hate\n",
       "57200                                 you're all niggers  explicit_hate\n",
       "57201  you're such a retard i hope you get type 2 dia...  explicit_hate\n",
       "\n",
       "[3715 rows x 2 columns]"
      ]
     },
     "execution_count": 56,
     "metadata": {},
     "output_type": "execute_result"
    }
   ],
   "source": [
    "df_all[df_all['label'] == 'explicit_hate']"
   ]
  },
  {
   "cell_type": "markdown",
   "metadata": {},
   "source": [
    "# Neutral Dataset"
   ]
  },
  {
   "cell_type": "code",
   "execution_count": 101,
   "metadata": {},
   "outputs": [
    {
     "data": {
      "text/html": [
       "<div>\n",
       "<style scoped>\n",
       "    .dataframe tbody tr th:only-of-type {\n",
       "        vertical-align: middle;\n",
       "    }\n",
       "\n",
       "    .dataframe tbody tr th {\n",
       "        vertical-align: top;\n",
       "    }\n",
       "\n",
       "    .dataframe thead th {\n",
       "        text-align: right;\n",
       "    }\n",
       "</style>\n",
       "<table border=\"1\" class=\"dataframe\">\n",
       "  <thead>\n",
       "    <tr style=\"text-align: right;\">\n",
       "      <th></th>\n",
       "      <th>ID</th>\n",
       "      <th>Text</th>\n",
       "      <th>Hate</th>\n",
       "      <th>HD</th>\n",
       "      <th>CV</th>\n",
       "      <th>VO</th>\n",
       "      <th>REL</th>\n",
       "      <th>RAE</th>\n",
       "      <th>SXO</th>\n",
       "      <th>GEN</th>\n",
       "      <th>IDL</th>\n",
       "      <th>NAT</th>\n",
       "      <th>POL</th>\n",
       "      <th>MPH</th>\n",
       "      <th>EX</th>\n",
       "      <th>IM</th>\n",
       "    </tr>\n",
       "  </thead>\n",
       "  <tbody>\n",
       "    <tr>\n",
       "      <th>0</th>\n",
       "      <td>27044</td>\n",
       "      <td>Ah the PSYOPS antifa crew is back. That’s how ...</td>\n",
       "      <td>0</td>\n",
       "      <td>0</td>\n",
       "      <td>0</td>\n",
       "      <td>0</td>\n",
       "      <td>NaN</td>\n",
       "      <td>NaN</td>\n",
       "      <td>NaN</td>\n",
       "      <td>NaN</td>\n",
       "      <td>NaN</td>\n",
       "      <td>NaN</td>\n",
       "      <td>NaN</td>\n",
       "      <td>NaN</td>\n",
       "      <td>NaN</td>\n",
       "      <td>NaN</td>\n",
       "    </tr>\n",
       "    <tr>\n",
       "      <th>1</th>\n",
       "      <td>27044</td>\n",
       "      <td>Ah the PSYOPS antifa crew is back. That’s how ...</td>\n",
       "      <td>0</td>\n",
       "      <td>0</td>\n",
       "      <td>0</td>\n",
       "      <td>0</td>\n",
       "      <td>NaN</td>\n",
       "      <td>NaN</td>\n",
       "      <td>NaN</td>\n",
       "      <td>NaN</td>\n",
       "      <td>NaN</td>\n",
       "      <td>NaN</td>\n",
       "      <td>NaN</td>\n",
       "      <td>NaN</td>\n",
       "      <td>NaN</td>\n",
       "      <td>NaN</td>\n",
       "    </tr>\n",
       "    <tr>\n",
       "      <th>2</th>\n",
       "      <td>27044</td>\n",
       "      <td>Ah the PSYOPS antifa crew is back. That’s how ...</td>\n",
       "      <td>0</td>\n",
       "      <td>0</td>\n",
       "      <td>0</td>\n",
       "      <td>0</td>\n",
       "      <td>NaN</td>\n",
       "      <td>NaN</td>\n",
       "      <td>NaN</td>\n",
       "      <td>NaN</td>\n",
       "      <td>NaN</td>\n",
       "      <td>NaN</td>\n",
       "      <td>NaN</td>\n",
       "      <td>NaN</td>\n",
       "      <td>NaN</td>\n",
       "      <td>NaN</td>\n",
       "    </tr>\n",
       "    <tr>\n",
       "      <th>3</th>\n",
       "      <td>27044</td>\n",
       "      <td>Ah the PSYOPS antifa crew is back. That’s how ...</td>\n",
       "      <td>0</td>\n",
       "      <td>0</td>\n",
       "      <td>0</td>\n",
       "      <td>0</td>\n",
       "      <td>NaN</td>\n",
       "      <td>NaN</td>\n",
       "      <td>NaN</td>\n",
       "      <td>NaN</td>\n",
       "      <td>NaN</td>\n",
       "      <td>NaN</td>\n",
       "      <td>NaN</td>\n",
       "      <td>NaN</td>\n",
       "      <td>NaN</td>\n",
       "      <td>NaN</td>\n",
       "    </tr>\n",
       "    <tr>\n",
       "      <th>4</th>\n",
       "      <td>27045</td>\n",
       "      <td>Get the new Android app update released today ...</td>\n",
       "      <td>0</td>\n",
       "      <td>0</td>\n",
       "      <td>0</td>\n",
       "      <td>0</td>\n",
       "      <td>NaN</td>\n",
       "      <td>NaN</td>\n",
       "      <td>NaN</td>\n",
       "      <td>NaN</td>\n",
       "      <td>NaN</td>\n",
       "      <td>NaN</td>\n",
       "      <td>NaN</td>\n",
       "      <td>NaN</td>\n",
       "      <td>NaN</td>\n",
       "      <td>NaN</td>\n",
       "    </tr>\n",
       "  </tbody>\n",
       "</table>\n",
       "</div>"
      ],
      "text/plain": [
       "      ID                                               Text  Hate  HD  CV  VO  \\\n",
       "0  27044  Ah the PSYOPS antifa crew is back. That’s how ...     0   0   0   0   \n",
       "1  27044  Ah the PSYOPS antifa crew is back. That’s how ...     0   0   0   0   \n",
       "2  27044  Ah the PSYOPS antifa crew is back. That’s how ...     0   0   0   0   \n",
       "3  27044  Ah the PSYOPS antifa crew is back. That’s how ...     0   0   0   0   \n",
       "4  27045  Get the new Android app update released today ...     0   0   0   0   \n",
       "\n",
       "   REL  RAE  SXO  GEN  IDL  NAT  POL  MPH  EX  IM  \n",
       "0  NaN  NaN  NaN  NaN  NaN  NaN  NaN  NaN NaN NaN  \n",
       "1  NaN  NaN  NaN  NaN  NaN  NaN  NaN  NaN NaN NaN  \n",
       "2  NaN  NaN  NaN  NaN  NaN  NaN  NaN  NaN NaN NaN  \n",
       "3  NaN  NaN  NaN  NaN  NaN  NaN  NaN  NaN NaN NaN  \n",
       "4  NaN  NaN  NaN  NaN  NaN  NaN  NaN  NaN NaN NaN  "
      ]
     },
     "execution_count": 101,
     "metadata": {},
     "output_type": "execute_result"
    }
   ],
   "source": [
    "df_gabhate = pd.read_csv('GabHateCorpus_annotations.tsv',sep='\\t')\n",
    "#df_neutral = df_neutral[df_neutral['Hate']== 0]\n",
    "#df_neutral = df_neutral[df_neutral['VO']== 0]\n",
    "df_neutral = df_gabhate.drop(['Annotator'], axis=1)\n",
    "#df_neutral.shape\n",
    "df_neutral.head()"
   ]
  },
  {
   "cell_type": "code",
   "execution_count": 102,
   "metadata": {},
   "outputs": [
    {
     "data": {
      "text/plain": [
       "(86529, 16)"
      ]
     },
     "execution_count": 102,
     "metadata": {},
     "output_type": "execute_result"
    }
   ],
   "source": [
    "df_neutral.shape"
   ]
  },
  {
   "cell_type": "code",
   "execution_count": 103,
   "metadata": {},
   "outputs": [
    {
     "name": "stderr",
     "output_type": "stream",
     "text": [
      "/var/folders/bs/ht_t1wp94tl3wt5xhchcxq2m0000gn/T/ipykernel_46805/2165255049.py:2: FutureWarning: Indexing with multiple keys (implicitly converted to a tuple of keys) will be deprecated, use a list instead.\n",
      "  df_n_hohate = df_neutral.groupby(['ID'], as_index=False)['Hate', 'VO'].mean()\n"
     ]
    },
    {
     "data": {
      "text/html": [
       "<div>\n",
       "<style scoped>\n",
       "    .dataframe tbody tr th:only-of-type {\n",
       "        vertical-align: middle;\n",
       "    }\n",
       "\n",
       "    .dataframe tbody tr th {\n",
       "        vertical-align: top;\n",
       "    }\n",
       "\n",
       "    .dataframe thead th {\n",
       "        text-align: right;\n",
       "    }\n",
       "</style>\n",
       "<table border=\"1\" class=\"dataframe\">\n",
       "  <thead>\n",
       "    <tr style=\"text-align: right;\">\n",
       "      <th></th>\n",
       "      <th>ID</th>\n",
       "      <th>Hate</th>\n",
       "      <th>VO</th>\n",
       "    </tr>\n",
       "  </thead>\n",
       "  <tbody>\n",
       "    <tr>\n",
       "      <th>count</th>\n",
       "      <td>27665.000000</td>\n",
       "      <td>27665.000000</td>\n",
       "      <td>27665.00000</td>\n",
       "    </tr>\n",
       "    <tr>\n",
       "      <th>mean</th>\n",
       "      <td>13832.000000</td>\n",
       "      <td>0.128931</td>\n",
       "      <td>0.08314</td>\n",
       "    </tr>\n",
       "    <tr>\n",
       "      <th>std</th>\n",
       "      <td>7986.341935</td>\n",
       "      <td>0.234616</td>\n",
       "      <td>0.19840</td>\n",
       "    </tr>\n",
       "    <tr>\n",
       "      <th>min</th>\n",
       "      <td>0.000000</td>\n",
       "      <td>0.000000</td>\n",
       "      <td>0.00000</td>\n",
       "    </tr>\n",
       "    <tr>\n",
       "      <th>25%</th>\n",
       "      <td>6916.000000</td>\n",
       "      <td>0.000000</td>\n",
       "      <td>0.00000</td>\n",
       "    </tr>\n",
       "    <tr>\n",
       "      <th>50%</th>\n",
       "      <td>13832.000000</td>\n",
       "      <td>0.000000</td>\n",
       "      <td>0.00000</td>\n",
       "    </tr>\n",
       "    <tr>\n",
       "      <th>75%</th>\n",
       "      <td>20748.000000</td>\n",
       "      <td>0.333333</td>\n",
       "      <td>0.00000</td>\n",
       "    </tr>\n",
       "    <tr>\n",
       "      <th>max</th>\n",
       "      <td>27664.000000</td>\n",
       "      <td>1.000000</td>\n",
       "      <td>1.00000</td>\n",
       "    </tr>\n",
       "  </tbody>\n",
       "</table>\n",
       "</div>"
      ],
      "text/plain": [
       "                 ID          Hate           VO\n",
       "count  27665.000000  27665.000000  27665.00000\n",
       "mean   13832.000000      0.128931      0.08314\n",
       "std     7986.341935      0.234616      0.19840\n",
       "min        0.000000      0.000000      0.00000\n",
       "25%     6916.000000      0.000000      0.00000\n",
       "50%    13832.000000      0.000000      0.00000\n",
       "75%    20748.000000      0.333333      0.00000\n",
       "max    27664.000000      1.000000      1.00000"
      ]
     },
     "execution_count": 103,
     "metadata": {},
     "output_type": "execute_result"
    }
   ],
   "source": [
    "# Group by ID to find entries where all annotators agreed it is no hate and no offensive  \n",
    "df_n_hohate = df_neutral.groupby(['ID'], as_index=False)['Hate', 'VO'].mean()\n",
    "df_n_hohate.describe()"
   ]
  },
  {
   "cell_type": "code",
   "execution_count": 104,
   "metadata": {},
   "outputs": [
    {
     "data": {
      "text/plain": [
       "(18612, 3)"
      ]
     },
     "execution_count": 104,
     "metadata": {},
     "output_type": "execute_result"
    }
   ],
   "source": [
    "df_n_hohate_pure = df_n_hohate[(df_n_hohate['Hate']==0) & (df_n_hohate['VO']==0) ]\n",
    "df_n_hohate_pure.shape"
   ]
  },
  {
   "cell_type": "code",
   "execution_count": 105,
   "metadata": {},
   "outputs": [
    {
     "data": {
      "text/plain": [
       "(18612, 16)"
      ]
     },
     "execution_count": 105,
     "metadata": {},
     "output_type": "execute_result"
    }
   ],
   "source": [
    "# Define a to keep variable to filter in the next step \n",
    "to_keep = df_n_hohate_pure['ID']\n",
    "df_neutral = df_neutral[df_neutral['ID'].isin(to_keep)]\n",
    "df_neutral = df_neutral.drop_duplicates(keep='first') \n",
    "df_neutral.shape"
   ]
  },
  {
   "cell_type": "code",
   "execution_count": 106,
   "metadata": {},
   "outputs": [
    {
     "data": {
      "text/html": [
       "<div>\n",
       "<style scoped>\n",
       "    .dataframe tbody tr th:only-of-type {\n",
       "        vertical-align: middle;\n",
       "    }\n",
       "\n",
       "    .dataframe tbody tr th {\n",
       "        vertical-align: top;\n",
       "    }\n",
       "\n",
       "    .dataframe thead th {\n",
       "        text-align: right;\n",
       "    }\n",
       "</style>\n",
       "<table border=\"1\" class=\"dataframe\">\n",
       "  <thead>\n",
       "    <tr style=\"text-align: right;\">\n",
       "      <th></th>\n",
       "      <th>ID</th>\n",
       "      <th>Text</th>\n",
       "      <th>Hate</th>\n",
       "      <th>HD</th>\n",
       "      <th>CV</th>\n",
       "      <th>VO</th>\n",
       "      <th>REL</th>\n",
       "      <th>RAE</th>\n",
       "      <th>SXO</th>\n",
       "      <th>GEN</th>\n",
       "      <th>IDL</th>\n",
       "      <th>NAT</th>\n",
       "      <th>POL</th>\n",
       "      <th>MPH</th>\n",
       "      <th>EX</th>\n",
       "      <th>IM</th>\n",
       "    </tr>\n",
       "  </thead>\n",
       "  <tbody>\n",
       "    <tr>\n",
       "      <th>0</th>\n",
       "      <td>27044</td>\n",
       "      <td>Ah the PSYOPS antifa crew is back. That’s how ...</td>\n",
       "      <td>0</td>\n",
       "      <td>0</td>\n",
       "      <td>0</td>\n",
       "      <td>0</td>\n",
       "      <td>NaN</td>\n",
       "      <td>NaN</td>\n",
       "      <td>NaN</td>\n",
       "      <td>NaN</td>\n",
       "      <td>NaN</td>\n",
       "      <td>NaN</td>\n",
       "      <td>NaN</td>\n",
       "      <td>NaN</td>\n",
       "      <td>NaN</td>\n",
       "      <td>NaN</td>\n",
       "    </tr>\n",
       "    <tr>\n",
       "      <th>4</th>\n",
       "      <td>27045</td>\n",
       "      <td>Get the new Android app update released today ...</td>\n",
       "      <td>0</td>\n",
       "      <td>0</td>\n",
       "      <td>0</td>\n",
       "      <td>0</td>\n",
       "      <td>NaN</td>\n",
       "      <td>NaN</td>\n",
       "      <td>NaN</td>\n",
       "      <td>NaN</td>\n",
       "      <td>NaN</td>\n",
       "      <td>NaN</td>\n",
       "      <td>NaN</td>\n",
       "      <td>NaN</td>\n",
       "      <td>NaN</td>\n",
       "      <td>NaN</td>\n",
       "    </tr>\n",
       "    <tr>\n",
       "      <th>7</th>\n",
       "      <td>27046</td>\n",
       "      <td>Study: Google Pushes Liberal News in Top 5 Sea...</td>\n",
       "      <td>0</td>\n",
       "      <td>0</td>\n",
       "      <td>0</td>\n",
       "      <td>0</td>\n",
       "      <td>NaN</td>\n",
       "      <td>NaN</td>\n",
       "      <td>NaN</td>\n",
       "      <td>NaN</td>\n",
       "      <td>NaN</td>\n",
       "      <td>NaN</td>\n",
       "      <td>NaN</td>\n",
       "      <td>NaN</td>\n",
       "      <td>NaN</td>\n",
       "      <td>NaN</td>\n",
       "    </tr>\n",
       "    <tr>\n",
       "      <th>19</th>\n",
       "      <td>27050</td>\n",
       "      <td>The Belgium government is demanding that Gab r...</td>\n",
       "      <td>0</td>\n",
       "      <td>0</td>\n",
       "      <td>0</td>\n",
       "      <td>0</td>\n",
       "      <td>NaN</td>\n",
       "      <td>NaN</td>\n",
       "      <td>NaN</td>\n",
       "      <td>NaN</td>\n",
       "      <td>NaN</td>\n",
       "      <td>NaN</td>\n",
       "      <td>NaN</td>\n",
       "      <td>NaN</td>\n",
       "      <td>NaN</td>\n",
       "      <td>NaN</td>\n",
       "    </tr>\n",
       "    <tr>\n",
       "      <th>23</th>\n",
       "      <td>27051</td>\n",
       "      <td>“Therefore, since we are surrounded by so grea...</td>\n",
       "      <td>0</td>\n",
       "      <td>0</td>\n",
       "      <td>0</td>\n",
       "      <td>0</td>\n",
       "      <td>NaN</td>\n",
       "      <td>NaN</td>\n",
       "      <td>NaN</td>\n",
       "      <td>NaN</td>\n",
       "      <td>NaN</td>\n",
       "      <td>NaN</td>\n",
       "      <td>NaN</td>\n",
       "      <td>NaN</td>\n",
       "      <td>NaN</td>\n",
       "      <td>NaN</td>\n",
       "    </tr>\n",
       "  </tbody>\n",
       "</table>\n",
       "</div>"
      ],
      "text/plain": [
       "       ID                                               Text  Hate  HD  CV  \\\n",
       "0   27044  Ah the PSYOPS antifa crew is back. That’s how ...     0   0   0   \n",
       "4   27045  Get the new Android app update released today ...     0   0   0   \n",
       "7   27046  Study: Google Pushes Liberal News in Top 5 Sea...     0   0   0   \n",
       "19  27050  The Belgium government is demanding that Gab r...     0   0   0   \n",
       "23  27051  “Therefore, since we are surrounded by so grea...     0   0   0   \n",
       "\n",
       "    VO  REL  RAE  SXO  GEN  IDL  NAT  POL  MPH  EX  IM  \n",
       "0    0  NaN  NaN  NaN  NaN  NaN  NaN  NaN  NaN NaN NaN  \n",
       "4    0  NaN  NaN  NaN  NaN  NaN  NaN  NaN  NaN NaN NaN  \n",
       "7    0  NaN  NaN  NaN  NaN  NaN  NaN  NaN  NaN NaN NaN  \n",
       "19   0  NaN  NaN  NaN  NaN  NaN  NaN  NaN  NaN NaN NaN  \n",
       "23   0  NaN  NaN  NaN  NaN  NaN  NaN  NaN  NaN NaN NaN  "
      ]
     },
     "execution_count": 106,
     "metadata": {},
     "output_type": "execute_result"
    }
   ],
   "source": [
    "# Head\n",
    "df_neutral.head()"
   ]
  },
  {
   "cell_type": "code",
   "execution_count": 107,
   "metadata": {},
   "outputs": [],
   "source": [
    "df_neutral.to_csv('neutral_entries.csv')"
   ]
  },
  {
   "cell_type": "code",
   "execution_count": 118,
   "metadata": {},
   "outputs": [
    {
     "name": "stderr",
     "output_type": "stream",
     "text": [
      "/var/folders/bs/ht_t1wp94tl3wt5xhchcxq2m0000gn/T/ipykernel_46805/1872345049.py:3: FutureWarning: Indexing with multiple keys (implicitly converted to a tuple of keys) will be deprecated, use a list instead.\n",
      "  df_hate_implicit = df_gh_implicit.groupby(['ID'], as_index=False)['Hate', 'EX', 'IM'].mean()\n"
     ]
    }
   ],
   "source": [
    "### df \n",
    "df_gh_implicit = df_gabhate.drop(['Annotator'], axis=1)\n",
    "df_hate_implicit = df_gh_implicit.groupby(['ID'], as_index=False)['Hate', 'EX', 'IM'].mean()\n",
    "df_hate_implicit_pure = df_hate_implicit[(df_hate_implicit['Hate']>0.5) & (df_hate_implicit['IM']>0.5) ]\n"
   ]
  },
  {
   "cell_type": "code",
   "execution_count": 119,
   "metadata": {},
   "outputs": [
    {
     "data": {
      "text/plain": [
       "(288, 4)"
      ]
     },
     "execution_count": 119,
     "metadata": {},
     "output_type": "execute_result"
    }
   ],
   "source": [
    "df_hate_implicit_pure.shape"
   ]
  }
 ],
 "metadata": {
  "kernelspec": {
   "display_name": "Python 3.9.13 ('dscience')",
   "language": "python",
   "name": "python3"
  },
  "language_info": {
   "codemirror_mode": {
    "name": "ipython",
    "version": 3
   },
   "file_extension": ".py",
   "mimetype": "text/x-python",
   "name": "python",
   "nbconvert_exporter": "python",
   "pygments_lexer": "ipython3",
   "version": "3.9.13"
  },
  "orig_nbformat": 4,
  "vscode": {
   "interpreter": {
    "hash": "3078b67b691a5c266f6971fd9f463b4eac2178879712276f7d11f0f0eb816c78"
   }
  }
 },
 "nbformat": 4,
 "nbformat_minor": 2
}
