{
 "cells": [
  {
   "cell_type": "code",
   "execution_count": 1,
   "metadata": {},
   "outputs": [],
   "source": [
    "import numpy as np\n",
    "import pandas as pd\n",
    "from typing import List, Tuple, Union\n",
    "import glob\n",
    "import os "
   ]
  },
  {
   "cell_type": "code",
   "execution_count": 2,
   "metadata": {},
   "outputs": [
    {
     "name": "stdout",
     "output_type": "stream",
     "text": [
      "/Users/arasdirekoglu/opt/anaconda3/envs/dscience/bin/python: Error while finding module specification for 'textblob.download_corpora' (ModuleNotFoundError: No module named 'textblob')\n"
     ]
    }
   ],
   "source": [
    "# dataset git repo\n",
    "if not os.path.exists(\"hate-speech-dataset\"):\n",
    "  !git clone https://github.com/Vicomtech/hate-speech-dataset.git\n",
    "    \n",
    "!python -m textblob.download_corpora"
   ]
  },
  {
   "cell_type": "code",
   "execution_count": 3,
   "metadata": {},
   "outputs": [],
   "source": [
    "def readData(paths: List[str], group: str):\n",
    "    pairs = []\n",
    "    for p in paths:\n",
    "        with open(p) as f:\n",
    "            file_id = p.split('/')[-1].split('.')[0]\n",
    "            pairs.append((file_id, f.read(), group))        \n",
    "    return pd.DataFrame(pairs, columns=[\"file_id\", \"text\", \"gSet\"])"
   ]
  },
  {
   "cell_type": "code",
   "execution_count": 4,
   "metadata": {},
   "outputs": [],
   "source": [
    "idLabels = pd.read_csv('hate-speech-dataset/annotations_metadata.csv')[[\"file_id\", \"label\"]]"
   ]
  },
  {
   "cell_type": "code",
   "execution_count": 10,
   "metadata": {},
   "outputs": [
    {
     "data": {
      "text/html": [
       "<div>\n",
       "<style scoped>\n",
       "    .dataframe tbody tr th:only-of-type {\n",
       "        vertical-align: middle;\n",
       "    }\n",
       "\n",
       "    .dataframe tbody tr th {\n",
       "        vertical-align: top;\n",
       "    }\n",
       "\n",
       "    .dataframe thead th {\n",
       "        text-align: right;\n",
       "    }\n",
       "</style>\n",
       "<table border=\"1\" class=\"dataframe\">\n",
       "  <thead>\n",
       "    <tr style=\"text-align: right;\">\n",
       "      <th></th>\n",
       "      <th>file_id</th>\n",
       "      <th>text</th>\n",
       "      <th>gSet</th>\n",
       "      <th>label</th>\n",
       "    </tr>\n",
       "  </thead>\n",
       "  <tbody>\n",
       "    <tr>\n",
       "      <th>0</th>\n",
       "      <td>13458115_2</td>\n",
       "      <td>It 's like that at most public boards .</td>\n",
       "      <td>all</td>\n",
       "      <td>noHate</td>\n",
       "    </tr>\n",
       "    <tr>\n",
       "      <th>1</th>\n",
       "      <td>13367480_1</td>\n",
       "      <td>I wonder if one of the victims opened the door...</td>\n",
       "      <td>all</td>\n",
       "      <td>noHate</td>\n",
       "    </tr>\n",
       "    <tr>\n",
       "      <th>2</th>\n",
       "      <td>30422449_1</td>\n",
       "      <td>Some people believe the Jack O ' Lantern also ...</td>\n",
       "      <td>all</td>\n",
       "      <td>noHate</td>\n",
       "    </tr>\n",
       "    <tr>\n",
       "      <th>3</th>\n",
       "      <td>14651837_4</td>\n",
       "      <td>Ready .... GO !!!</td>\n",
       "      <td>all</td>\n",
       "      <td>noHate</td>\n",
       "    </tr>\n",
       "    <tr>\n",
       "      <th>4</th>\n",
       "      <td>30527903_3</td>\n",
       "      <td>Thanks !</td>\n",
       "      <td>all</td>\n",
       "      <td>noHate</td>\n",
       "    </tr>\n",
       "  </tbody>\n",
       "</table>\n",
       "</div>"
      ],
      "text/plain": [
       "      file_id                                               text gSet   label\n",
       "0  13458115_2            It 's like that at most public boards .  all  noHate\n",
       "1  13367480_1  I wonder if one of the victims opened the door...  all  noHate\n",
       "2  30422449_1  Some people believe the Jack O ' Lantern also ...  all  noHate\n",
       "3  14651837_4                                  Ready .... GO !!!  all  noHate\n",
       "4  30527903_3                                           Thanks !  all  noHate"
      ]
     },
     "execution_count": 10,
     "metadata": {},
     "output_type": "execute_result"
    }
   ],
   "source": [
    "df_all = readData(glob.glob('./hate-speech-dataset/all_files/*.txt'), 'all')\n",
    "df_all = df_all.join(idLabels.set_index('file_id'), on='file_id')\n",
    "df_all.head()"
   ]
  },
  {
   "cell_type": "code",
   "execution_count": 12,
   "metadata": {},
   "outputs": [
    {
     "data": {
      "text/plain": [
       "noHate      9507\n",
       "hate        1196\n",
       "relation     168\n",
       "idk/skip      73\n",
       "Name: label, dtype: int64"
      ]
     },
     "execution_count": 12,
     "metadata": {},
     "output_type": "execute_result"
    }
   ],
   "source": [
    "df_all.label.value_counts()"
   ]
  },
  {
   "cell_type": "code",
   "execution_count": 13,
   "metadata": {},
   "outputs": [],
   "source": [
    "df_all.to_csv('whitesupremacist_hatespeech.csv', index=False)"
   ]
  }
 ],
 "metadata": {
  "kernelspec": {
   "display_name": "Python 3.9.13 ('dscience')",
   "language": "python",
   "name": "python3"
  },
  "language_info": {
   "codemirror_mode": {
    "name": "ipython",
    "version": 3
   },
   "file_extension": ".py",
   "mimetype": "text/x-python",
   "name": "python",
   "nbconvert_exporter": "python",
   "pygments_lexer": "ipython3",
   "version": "3.9.13"
  },
  "orig_nbformat": 4,
  "vscode": {
   "interpreter": {
    "hash": "3078b67b691a5c266f6971fd9f463b4eac2178879712276f7d11f0f0eb816c78"
   }
  }
 },
 "nbformat": 4,
 "nbformat_minor": 2
}
