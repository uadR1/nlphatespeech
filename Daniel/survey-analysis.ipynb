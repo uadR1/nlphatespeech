{
 "cells": [
  {
   "cell_type": "code",
   "execution_count": 44,
   "metadata": {},
   "outputs": [],
   "source": [
    "import pandas as pd\n",
    "import numpy as np\n",
    "\n",
    "from sklearn.metrics import confusion_matrix\n",
    "import seaborn as sns\n",
    "\n",
    "import matplotlib.pyplot as plt"
   ]
  },
  {
   "cell_type": "markdown",
   "metadata": {},
   "source": [
    "# Combined the Ground Truth & Survey Result"
   ]
  },
  {
   "cell_type": "code",
   "execution_count": 73,
   "metadata": {},
   "outputs": [
    {
     "data": {
      "text/html": [
       "<div>\n",
       "<style scoped>\n",
       "    .dataframe tbody tr th:only-of-type {\n",
       "        vertical-align: middle;\n",
       "    }\n",
       "\n",
       "    .dataframe tbody tr th {\n",
       "        vertical-align: top;\n",
       "    }\n",
       "\n",
       "    .dataframe thead th {\n",
       "        text-align: right;\n",
       "    }\n",
       "</style>\n",
       "<table border=\"1\" class=\"dataframe\">\n",
       "  <thead>\n",
       "    <tr style=\"text-align: right;\">\n",
       "      <th></th>\n",
       "      <th>Unnamed: 0</th>\n",
       "      <th>text</th>\n",
       "      <th>class</th>\n",
       "      <th>explicit_hate</th>\n",
       "      <th>implicit_hate</th>\n",
       "      <th>not_hate</th>\n",
       "      <th>offensive</th>\n",
       "      <th>check_correct_index</th>\n",
       "    </tr>\n",
       "    <tr>\n",
       "      <th>sheet_index</th>\n",
       "      <th></th>\n",
       "      <th></th>\n",
       "      <th></th>\n",
       "      <th></th>\n",
       "      <th></th>\n",
       "      <th></th>\n",
       "      <th></th>\n",
       "      <th></th>\n",
       "    </tr>\n",
       "  </thead>\n",
       "  <tbody>\n",
       "    <tr>\n",
       "      <th>1</th>\n",
       "      <td>1989</td>\n",
       "      <td>that's b / c us mass media controlled by jews...</td>\n",
       "      <td>explicit_hate</td>\n",
       "      <td>1</td>\n",
       "      <td>0</td>\n",
       "      <td>0</td>\n",
       "      <td>0</td>\n",
       "      <td>True</td>\n",
       "    </tr>\n",
       "    <tr>\n",
       "      <th>2</th>\n",
       "      <td>5306</td>\n",
       "      <td>radix journal  alternativehypothesis make the ...</td>\n",
       "      <td>not_hate</td>\n",
       "      <td>0</td>\n",
       "      <td>0</td>\n",
       "      <td>1</td>\n",
       "      <td>0</td>\n",
       "      <td>True</td>\n",
       "    </tr>\n",
       "    <tr>\n",
       "      <th>3</th>\n",
       "      <td>15718</td>\n",
       "      <td>RT @JStac825: There's coon classic (R. Kelly, ...</td>\n",
       "      <td>not_hate</td>\n",
       "      <td>0</td>\n",
       "      <td>0</td>\n",
       "      <td>1</td>\n",
       "      <td>0</td>\n",
       "      <td>True</td>\n",
       "    </tr>\n",
       "    <tr>\n",
       "      <th>4</th>\n",
       "      <td>13101</td>\n",
       "      <td>#Turkish president Erdogan warned that the wor...</td>\n",
       "      <td>not_hate</td>\n",
       "      <td>0</td>\n",
       "      <td>0</td>\n",
       "      <td>1</td>\n",
       "      <td>0</td>\n",
       "      <td>True</td>\n",
       "    </tr>\n",
       "    <tr>\n",
       "      <th>5</th>\n",
       "      <td>12542</td>\n",
       "      <td>http://actoneprogram.com  Don't give up on Hol...</td>\n",
       "      <td>not_hate</td>\n",
       "      <td>0</td>\n",
       "      <td>0</td>\n",
       "      <td>1</td>\n",
       "      <td>0</td>\n",
       "      <td>True</td>\n",
       "    </tr>\n",
       "  </tbody>\n",
       "</table>\n",
       "</div>"
      ],
      "text/plain": [
       "             Unnamed: 0                                               text  \\\n",
       "sheet_index                                                                  \n",
       "1                  1989   that's b / c us mass media controlled by jews...   \n",
       "2                  5306  radix journal  alternativehypothesis make the ...   \n",
       "3                 15718  RT @JStac825: There's coon classic (R. Kelly, ...   \n",
       "4                 13101  #Turkish president Erdogan warned that the wor...   \n",
       "5                 12542  http://actoneprogram.com  Don't give up on Hol...   \n",
       "\n",
       "                     class  explicit_hate  implicit_hate  not_hate  offensive  \\\n",
       "sheet_index                                                                     \n",
       "1            explicit_hate              1              0         0          0   \n",
       "2                 not_hate              0              0         1          0   \n",
       "3                 not_hate              0              0         1          0   \n",
       "4                 not_hate              0              0         1          0   \n",
       "5                 not_hate              0              0         1          0   \n",
       "\n",
       "             check_correct_index  \n",
       "sheet_index                       \n",
       "1                           True  \n",
       "2                           True  \n",
       "3                           True  \n",
       "4                           True  \n",
       "5                           True  "
      ]
     },
     "execution_count": 73,
     "metadata": {},
     "output_type": "execute_result"
    }
   ],
   "source": [
    "df_ground_truth = pd.read_csv('exported/ground_truth.csv', index_col='sheet_index')\n",
    "df_ground_truth.head()"
   ]
  },
  {
   "cell_type": "code",
   "execution_count": 74,
   "metadata": {},
   "outputs": [
    {
     "data": {
      "text/html": [
       "<div>\n",
       "<style scoped>\n",
       "    .dataframe tbody tr th:only-of-type {\n",
       "        vertical-align: middle;\n",
       "    }\n",
       "\n",
       "    .dataframe tbody tr th {\n",
       "        vertical-align: top;\n",
       "    }\n",
       "\n",
       "    .dataframe thead th {\n",
       "        text-align: right;\n",
       "    }\n",
       "</style>\n",
       "<table border=\"1\" class=\"dataframe\">\n",
       "  <thead>\n",
       "    <tr style=\"text-align: right;\">\n",
       "      <th></th>\n",
       "      <th>Unnamed: 0</th>\n",
       "      <th>annotator</th>\n",
       "      <th>text</th>\n",
       "      <th>explicit_hate_prediction</th>\n",
       "      <th>implicit_hate_prediction</th>\n",
       "      <th>not_hate_prediction</th>\n",
       "      <th>offensive_prediction</th>\n",
       "      <th>sum</th>\n",
       "      <th>sum_hate_prediction</th>\n",
       "    </tr>\n",
       "    <tr>\n",
       "      <th>sheet_index</th>\n",
       "      <th></th>\n",
       "      <th></th>\n",
       "      <th></th>\n",
       "      <th></th>\n",
       "      <th></th>\n",
       "      <th></th>\n",
       "      <th></th>\n",
       "      <th></th>\n",
       "      <th></th>\n",
       "    </tr>\n",
       "  </thead>\n",
       "  <tbody>\n",
       "    <tr>\n",
       "      <th>1</th>\n",
       "      <td>1989</td>\n",
       "      <td>daniel</td>\n",
       "      <td>that's b / c us mass media controlled by jews...</td>\n",
       "      <td>1</td>\n",
       "      <td>0</td>\n",
       "      <td>0</td>\n",
       "      <td>0</td>\n",
       "      <td>1</td>\n",
       "      <td>1</td>\n",
       "    </tr>\n",
       "    <tr>\n",
       "      <th>2</th>\n",
       "      <td>5306</td>\n",
       "      <td>daniel</td>\n",
       "      <td>radix journal  alternativehypothesis make the ...</td>\n",
       "      <td>1</td>\n",
       "      <td>0</td>\n",
       "      <td>0</td>\n",
       "      <td>0</td>\n",
       "      <td>1</td>\n",
       "      <td>1</td>\n",
       "    </tr>\n",
       "    <tr>\n",
       "      <th>3</th>\n",
       "      <td>15718</td>\n",
       "      <td>daniel</td>\n",
       "      <td>RT @JStac825: There's coon classic (R. Kelly, ...</td>\n",
       "      <td>0</td>\n",
       "      <td>0</td>\n",
       "      <td>1</td>\n",
       "      <td>0</td>\n",
       "      <td>1</td>\n",
       "      <td>0</td>\n",
       "    </tr>\n",
       "    <tr>\n",
       "      <th>4</th>\n",
       "      <td>13101</td>\n",
       "      <td>daniel</td>\n",
       "      <td>#Turkish president Erdogan warned that the wor...</td>\n",
       "      <td>0</td>\n",
       "      <td>0</td>\n",
       "      <td>1</td>\n",
       "      <td>0</td>\n",
       "      <td>1</td>\n",
       "      <td>0</td>\n",
       "    </tr>\n",
       "    <tr>\n",
       "      <th>5</th>\n",
       "      <td>12542</td>\n",
       "      <td>daniel</td>\n",
       "      <td>http://actoneprogram.com  Don't give up on Hol...</td>\n",
       "      <td>0</td>\n",
       "      <td>0</td>\n",
       "      <td>1</td>\n",
       "      <td>0</td>\n",
       "      <td>1</td>\n",
       "      <td>0</td>\n",
       "    </tr>\n",
       "  </tbody>\n",
       "</table>\n",
       "</div>"
      ],
      "text/plain": [
       "             Unnamed: 0 annotator  \\\n",
       "sheet_index                         \n",
       "1                  1989    daniel   \n",
       "2                  5306    daniel   \n",
       "3                 15718    daniel   \n",
       "4                 13101    daniel   \n",
       "5                 12542    daniel   \n",
       "\n",
       "                                                          text  \\\n",
       "sheet_index                                                      \n",
       "1             that's b / c us mass media controlled by jews...   \n",
       "2            radix journal  alternativehypothesis make the ...   \n",
       "3            RT @JStac825: There's coon classic (R. Kelly, ...   \n",
       "4            #Turkish president Erdogan warned that the wor...   \n",
       "5            http://actoneprogram.com  Don't give up on Hol...   \n",
       "\n",
       "             explicit_hate_prediction  implicit_hate_prediction  \\\n",
       "sheet_index                                                       \n",
       "1                                   1                         0   \n",
       "2                                   1                         0   \n",
       "3                                   0                         0   \n",
       "4                                   0                         0   \n",
       "5                                   0                         0   \n",
       "\n",
       "             not_hate_prediction  offensive_prediction  sum  \\\n",
       "sheet_index                                                   \n",
       "1                              0                     0    1   \n",
       "2                              0                     0    1   \n",
       "3                              1                     0    1   \n",
       "4                              1                     0    1   \n",
       "5                              1                     0    1   \n",
       "\n",
       "             sum_hate_prediction  \n",
       "sheet_index                       \n",
       "1                              1  \n",
       "2                              1  \n",
       "3                              0  \n",
       "4                              0  \n",
       "5                              0  "
      ]
     },
     "execution_count": 74,
     "metadata": {},
     "output_type": "execute_result"
    }
   ],
   "source": [
    "df_result = pd.read_csv('exported/survey_result_v2.csv', index_col='sheet_index')\n",
    "df_result.head(5)"
   ]
  },
  {
   "cell_type": "code",
   "execution_count": 75,
   "metadata": {},
   "outputs": [
    {
     "name": "stdout",
     "output_type": "stream",
     "text": [
      "(900, 8)\n",
      "(900, 9)\n",
      "(900, 20)\n"
     ]
    }
   ],
   "source": [
    "print(df_ground_truth.shape)\n",
    "print(df_result.shape)\n",
    "print(df_survey.shape)"
   ]
  },
  {
   "cell_type": "code",
   "execution_count": 76,
   "metadata": {},
   "outputs": [
    {
     "data": {
      "text/html": [
       "<div>\n",
       "<style scoped>\n",
       "    .dataframe tbody tr th:only-of-type {\n",
       "        vertical-align: middle;\n",
       "    }\n",
       "\n",
       "    .dataframe tbody tr th {\n",
       "        vertical-align: top;\n",
       "    }\n",
       "\n",
       "    .dataframe thead th {\n",
       "        text-align: right;\n",
       "    }\n",
       "</style>\n",
       "<table border=\"1\" class=\"dataframe\">\n",
       "  <thead>\n",
       "    <tr style=\"text-align: right;\">\n",
       "      <th></th>\n",
       "      <th>Unnamed: 0_x</th>\n",
       "      <th>text_x</th>\n",
       "      <th>class</th>\n",
       "      <th>explicit_hate</th>\n",
       "      <th>implicit_hate</th>\n",
       "      <th>not_hate</th>\n",
       "      <th>offensive</th>\n",
       "      <th>check_correct_index</th>\n",
       "      <th>Unnamed: 0_y</th>\n",
       "      <th>annotator</th>\n",
       "      <th>text_y</th>\n",
       "      <th>explicit_hate_prediction</th>\n",
       "      <th>implicit_hate_prediction</th>\n",
       "      <th>not_hate_prediction</th>\n",
       "      <th>offensive_prediction</th>\n",
       "      <th>sum</th>\n",
       "      <th>sum_hate_prediction</th>\n",
       "      <th>binary_hate</th>\n",
       "      <th>binary_hate_prediction</th>\n",
       "      <th>sum_annotator_answer</th>\n",
       "    </tr>\n",
       "    <tr>\n",
       "      <th>sheet_index</th>\n",
       "      <th></th>\n",
       "      <th></th>\n",
       "      <th></th>\n",
       "      <th></th>\n",
       "      <th></th>\n",
       "      <th></th>\n",
       "      <th></th>\n",
       "      <th></th>\n",
       "      <th></th>\n",
       "      <th></th>\n",
       "      <th></th>\n",
       "      <th></th>\n",
       "      <th></th>\n",
       "      <th></th>\n",
       "      <th></th>\n",
       "      <th></th>\n",
       "      <th></th>\n",
       "      <th></th>\n",
       "      <th></th>\n",
       "      <th></th>\n",
       "    </tr>\n",
       "  </thead>\n",
       "  <tbody>\n",
       "    <tr>\n",
       "      <th>1</th>\n",
       "      <td>1989</td>\n",
       "      <td>that's b / c us mass media controlled by jews...</td>\n",
       "      <td>explicit_hate</td>\n",
       "      <td>1</td>\n",
       "      <td>0</td>\n",
       "      <td>0</td>\n",
       "      <td>0</td>\n",
       "      <td>True</td>\n",
       "      <td>1989</td>\n",
       "      <td>daniel</td>\n",
       "      <td>that's b / c us mass media controlled by jews...</td>\n",
       "      <td>1</td>\n",
       "      <td>0</td>\n",
       "      <td>0</td>\n",
       "      <td>0</td>\n",
       "      <td>1</td>\n",
       "      <td>1</td>\n",
       "      <td>1</td>\n",
       "      <td>1</td>\n",
       "      <td>1</td>\n",
       "    </tr>\n",
       "    <tr>\n",
       "      <th>2</th>\n",
       "      <td>5306</td>\n",
       "      <td>radix journal  alternativehypothesis make the ...</td>\n",
       "      <td>not_hate</td>\n",
       "      <td>0</td>\n",
       "      <td>0</td>\n",
       "      <td>1</td>\n",
       "      <td>0</td>\n",
       "      <td>True</td>\n",
       "      <td>5306</td>\n",
       "      <td>daniel</td>\n",
       "      <td>radix journal  alternativehypothesis make the ...</td>\n",
       "      <td>1</td>\n",
       "      <td>0</td>\n",
       "      <td>0</td>\n",
       "      <td>0</td>\n",
       "      <td>1</td>\n",
       "      <td>1</td>\n",
       "      <td>0</td>\n",
       "      <td>1</td>\n",
       "      <td>1</td>\n",
       "    </tr>\n",
       "    <tr>\n",
       "      <th>3</th>\n",
       "      <td>15718</td>\n",
       "      <td>RT @JStac825: There's coon classic (R. Kelly, ...</td>\n",
       "      <td>not_hate</td>\n",
       "      <td>0</td>\n",
       "      <td>0</td>\n",
       "      <td>1</td>\n",
       "      <td>0</td>\n",
       "      <td>True</td>\n",
       "      <td>15718</td>\n",
       "      <td>daniel</td>\n",
       "      <td>RT @JStac825: There's coon classic (R. Kelly, ...</td>\n",
       "      <td>0</td>\n",
       "      <td>0</td>\n",
       "      <td>1</td>\n",
       "      <td>0</td>\n",
       "      <td>1</td>\n",
       "      <td>0</td>\n",
       "      <td>0</td>\n",
       "      <td>0</td>\n",
       "      <td>1</td>\n",
       "    </tr>\n",
       "    <tr>\n",
       "      <th>4</th>\n",
       "      <td>13101</td>\n",
       "      <td>#Turkish president Erdogan warned that the wor...</td>\n",
       "      <td>not_hate</td>\n",
       "      <td>0</td>\n",
       "      <td>0</td>\n",
       "      <td>1</td>\n",
       "      <td>0</td>\n",
       "      <td>True</td>\n",
       "      <td>13101</td>\n",
       "      <td>daniel</td>\n",
       "      <td>#Turkish president Erdogan warned that the wor...</td>\n",
       "      <td>0</td>\n",
       "      <td>0</td>\n",
       "      <td>1</td>\n",
       "      <td>0</td>\n",
       "      <td>1</td>\n",
       "      <td>0</td>\n",
       "      <td>0</td>\n",
       "      <td>0</td>\n",
       "      <td>1</td>\n",
       "    </tr>\n",
       "    <tr>\n",
       "      <th>5</th>\n",
       "      <td>12542</td>\n",
       "      <td>http://actoneprogram.com  Don't give up on Hol...</td>\n",
       "      <td>not_hate</td>\n",
       "      <td>0</td>\n",
       "      <td>0</td>\n",
       "      <td>1</td>\n",
       "      <td>0</td>\n",
       "      <td>True</td>\n",
       "      <td>12542</td>\n",
       "      <td>daniel</td>\n",
       "      <td>http://actoneprogram.com  Don't give up on Hol...</td>\n",
       "      <td>0</td>\n",
       "      <td>0</td>\n",
       "      <td>1</td>\n",
       "      <td>0</td>\n",
       "      <td>1</td>\n",
       "      <td>0</td>\n",
       "      <td>0</td>\n",
       "      <td>0</td>\n",
       "      <td>1</td>\n",
       "    </tr>\n",
       "  </tbody>\n",
       "</table>\n",
       "</div>"
      ],
      "text/plain": [
       "             Unnamed: 0_x                                             text_x  \\\n",
       "sheet_index                                                                    \n",
       "1                    1989   that's b / c us mass media controlled by jews...   \n",
       "2                    5306  radix journal  alternativehypothesis make the ...   \n",
       "3                   15718  RT @JStac825: There's coon classic (R. Kelly, ...   \n",
       "4                   13101  #Turkish president Erdogan warned that the wor...   \n",
       "5                   12542  http://actoneprogram.com  Don't give up on Hol...   \n",
       "\n",
       "                     class  explicit_hate  implicit_hate  not_hate  offensive  \\\n",
       "sheet_index                                                                     \n",
       "1            explicit_hate              1              0         0          0   \n",
       "2                 not_hate              0              0         1          0   \n",
       "3                 not_hate              0              0         1          0   \n",
       "4                 not_hate              0              0         1          0   \n",
       "5                 not_hate              0              0         1          0   \n",
       "\n",
       "             check_correct_index  Unnamed: 0_y annotator  \\\n",
       "sheet_index                                                \n",
       "1                           True          1989    daniel   \n",
       "2                           True          5306    daniel   \n",
       "3                           True         15718    daniel   \n",
       "4                           True         13101    daniel   \n",
       "5                           True         12542    daniel   \n",
       "\n",
       "                                                        text_y  \\\n",
       "sheet_index                                                      \n",
       "1             that's b / c us mass media controlled by jews...   \n",
       "2            radix journal  alternativehypothesis make the ...   \n",
       "3            RT @JStac825: There's coon classic (R. Kelly, ...   \n",
       "4            #Turkish president Erdogan warned that the wor...   \n",
       "5            http://actoneprogram.com  Don't give up on Hol...   \n",
       "\n",
       "             explicit_hate_prediction  implicit_hate_prediction  \\\n",
       "sheet_index                                                       \n",
       "1                                   1                         0   \n",
       "2                                   1                         0   \n",
       "3                                   0                         0   \n",
       "4                                   0                         0   \n",
       "5                                   0                         0   \n",
       "\n",
       "             not_hate_prediction  offensive_prediction  sum  \\\n",
       "sheet_index                                                   \n",
       "1                              0                     0    1   \n",
       "2                              0                     0    1   \n",
       "3                              1                     0    1   \n",
       "4                              1                     0    1   \n",
       "5                              1                     0    1   \n",
       "\n",
       "             sum_hate_prediction  binary_hate  binary_hate_prediction  \\\n",
       "sheet_index                                                             \n",
       "1                              1            1                       1   \n",
       "2                              1            0                       1   \n",
       "3                              0            0                       0   \n",
       "4                              0            0                       0   \n",
       "5                              0            0                       0   \n",
       "\n",
       "             sum_annotator_answer  \n",
       "sheet_index                        \n",
       "1                               1  \n",
       "2                               1  \n",
       "3                               1  \n",
       "4                               1  \n",
       "5                               1  "
      ]
     },
     "execution_count": 76,
     "metadata": {},
     "output_type": "execute_result"
    }
   ],
   "source": [
    "df_ground_truth = pd.read_csv('exported/ground_truth.csv', index_col='sheet_index')\n",
    "df_result = pd.read_csv('exported/survey_result_v2.csv', index_col='sheet_index')\n",
    "\n",
    "# merge ground truth & survey result\n",
    "df_survey = pd.merge(df_ground_truth, df_result, how='left', left_index=True, right_index=True)\n",
    "\n",
    "\n",
    "# create the binary-hate columns\n",
    "subset_binary_hate_columns = ['explicit_hate','implicit_hate','offensive']\n",
    "df_survey['binary_hate'] = df_survey.loc[:,subset_binary_hate_columns].sum(axis=1)\n",
    "\n",
    "subset_binary_hate_prediction_columns = ['explicit_hate_prediction','implicit_hate_prediction','offensive_prediction']\n",
    "df_survey['binary_hate_prediction'] = df_survey.loc[:,subset_binary_hate_prediction_columns].sum(axis=1)\n",
    "\n",
    "# remain only answers that are valid\n",
    "subset_prediction_columns = ['explicit_hate_prediction','implicit_hate_prediction','not_hate_prediction','offensive_prediction']\n",
    "df_survey['sum_annotator_answer'] = df_survey.loc[:,subset_prediction_columns].sum(axis=1)\n",
    "# df_survey = df_survey[df_survey['sum_annotator_answer']==1]\n",
    "\n",
    "df_survey.head()"
   ]
  },
  {
   "cell_type": "code",
   "execution_count": 77,
   "metadata": {},
   "outputs": [
    {
     "data": {
      "text/plain": [
       "(900, 20)"
      ]
     },
     "execution_count": 77,
     "metadata": {},
     "output_type": "execute_result"
    }
   ],
   "source": [
    "df_survey.shape"
   ]
  },
  {
   "cell_type": "code",
   "execution_count": 53,
   "metadata": {},
   "outputs": [
    {
     "data": {
      "text/html": [
       "<div>\n",
       "<style scoped>\n",
       "    .dataframe tbody tr th:only-of-type {\n",
       "        vertical-align: middle;\n",
       "    }\n",
       "\n",
       "    .dataframe tbody tr th {\n",
       "        vertical-align: top;\n",
       "    }\n",
       "\n",
       "    .dataframe thead th {\n",
       "        text-align: right;\n",
       "    }\n",
       "</style>\n",
       "<table border=\"1\" class=\"dataframe\">\n",
       "  <thead>\n",
       "    <tr style=\"text-align: right;\">\n",
       "      <th></th>\n",
       "      <th>Unnamed: 0_x</th>\n",
       "      <th>text_x</th>\n",
       "      <th>class</th>\n",
       "      <th>explicit_hate</th>\n",
       "      <th>implicit_hate</th>\n",
       "      <th>not_hate</th>\n",
       "      <th>offensive</th>\n",
       "      <th>check_correct_index</th>\n",
       "      <th>Unnamed: 0_y</th>\n",
       "      <th>annotator</th>\n",
       "      <th>text_y</th>\n",
       "      <th>explicit_hate_prediction</th>\n",
       "      <th>implicit_hate_prediction</th>\n",
       "      <th>not_hate_prediction</th>\n",
       "      <th>offensive_prediction</th>\n",
       "      <th>sum</th>\n",
       "      <th>sum_hate_prediction</th>\n",
       "      <th>binary_hate</th>\n",
       "      <th>binary_hate_prediction</th>\n",
       "      <th>sum_annotator_answer</th>\n",
       "    </tr>\n",
       "    <tr>\n",
       "      <th>sheet_index</th>\n",
       "      <th></th>\n",
       "      <th></th>\n",
       "      <th></th>\n",
       "      <th></th>\n",
       "      <th></th>\n",
       "      <th></th>\n",
       "      <th></th>\n",
       "      <th></th>\n",
       "      <th></th>\n",
       "      <th></th>\n",
       "      <th></th>\n",
       "      <th></th>\n",
       "      <th></th>\n",
       "      <th></th>\n",
       "      <th></th>\n",
       "      <th></th>\n",
       "      <th></th>\n",
       "      <th></th>\n",
       "      <th></th>\n",
       "      <th></th>\n",
       "    </tr>\n",
       "  </thead>\n",
       "  <tbody>\n",
       "  </tbody>\n",
       "</table>\n",
       "</div>"
      ],
      "text/plain": [
       "Empty DataFrame\n",
       "Columns: [Unnamed: 0_x, text_x, class, explicit_hate, implicit_hate, not_hate, offensive, check_correct_index, Unnamed: 0_y, annotator, text_y, explicit_hate_prediction, implicit_hate_prediction, not_hate_prediction, offensive_prediction, sum, sum_hate_prediction, binary_hate, binary_hate_prediction, sum_annotator_answer]\n",
       "Index: []"
      ]
     },
     "execution_count": 53,
     "metadata": {},
     "output_type": "execute_result"
    }
   ],
   "source": [
    "df_survey[df_survey.duplicated(subset=['text_x'])]"
   ]
  },
  {
   "cell_type": "code",
   "execution_count": 54,
   "metadata": {},
   "outputs": [
    {
     "data": {
      "text/plain": [
       "0    450\n",
       "1    450\n",
       "Name: not_hate, dtype: int64"
      ]
     },
     "execution_count": 54,
     "metadata": {},
     "output_type": "execute_result"
    }
   ],
   "source": [
    "df_survey['not_hate'].value_counts()"
   ]
  },
  {
   "cell_type": "code",
   "execution_count": 55,
   "metadata": {},
   "outputs": [
    {
     "data": {
      "text/plain": [
       "1    450\n",
       "0    450\n",
       "Name: binary_hate, dtype: int64"
      ]
     },
     "execution_count": 55,
     "metadata": {},
     "output_type": "execute_result"
    }
   ],
   "source": [
    "df_survey['binary_hate'].value_counts()"
   ]
  },
  {
   "cell_type": "markdown",
   "metadata": {},
   "source": [
    "# Confusion Matrix"
   ]
  },
  {
   "cell_type": "markdown",
   "metadata": {},
   "source": [
    "## Binary Classification"
   ]
  },
  {
   "cell_type": "code",
   "execution_count": 78,
   "metadata": {},
   "outputs": [
    {
     "data": {
      "image/png": "[encoded data removed]",
      "text/plain": [
       "<Figure size 640x480 with 2 Axes>"
      ]
     },
     "metadata": {},
     "output_type": "display_data"
    }
   ],
   "source": [
    "cfm_binary = confusion_matrix(df_survey['binary_hate'], df_survey['binary_hate_prediction'])\n",
    "\n",
    "ax = plt.subplot()\n",
    "sns.set(font_scale=1.5)\n",
    "# labels, title and ticks\n",
    "\n",
    "sns.heatmap(cfm_binary, ax=ax, annot=True, fmt='g')\n",
    "\n",
    "ax.set_xlabel('Predicted labels');\n",
    "ax.set_ylabel('True labels');\n",
    "ax.set_title('Confusion Matrix');\n",
    "ax.xaxis.set_ticklabels(['not_hate', 'hate']);\n",
    "ax.yaxis.set_ticklabels(['not_hate', 'hate']);\n",
    "plt.show()"
   ]
  },
  {
   "cell_type": "code",
   "execution_count": 80,
   "metadata": {},
   "outputs": [
    {
     "name": "stdout",
     "output_type": "stream",
     "text": [
      "acc \t 0.7711111111111111\n",
      "F1 \t 0.7893660531697342\n"
     ]
    }
   ],
   "source": [
    "from sklearn.metrics import accuracy_score\n",
    "from sklearn.metrics import f1_score\n",
    "\n",
    "print('acc \\t', accuracy_score(df_survey['binary_hate'], df_survey['binary_hate_prediction']))\n",
    "print('F1 \\t', f1_score(df_survey['binary_hate'], df_survey['binary_hate_prediction']))"
   ]
  },
  {
   "cell_type": "markdown",
   "metadata": {},
   "source": [
    "## Multi-class Classification"
   ]
  },
  {
   "cell_type": "code",
   "execution_count": 79,
   "metadata": {},
   "outputs": [
    {
     "data": {
      "image/png": "[encoded data removed]",
      "text/plain": [
       "<Figure size 1000x600 with 2 Axes>"
      ]
     },
     "metadata": {},
     "output_type": "display_data"
    }
   ],
   "source": [
    "plt.figure(figsize=(10,6))\n",
    "subset_true = ['explicit_hate', 'implicit_hate', 'not_hate', 'offensive']\n",
    "subset_prediction = ['explicit_hate_prediction', 'implicit_hate_prediction', 'not_hate_prediction', 'offensive_prediction']\n",
    "\n",
    "fx=sns.heatmap(confusion_matrix(df_survey[subset_true].values.argmax(axis=1),df_survey[subset_prediction].values.argmax(axis=1)), annot=True, fmt=\"g\", cmap='BrBG')\n",
    "fx.set_title('Confusion Matrix \\n');\n",
    "fx.set_xlabel('\\n Predicted labels\\n')\n",
    "fx.set_ylabel('True labels\\n');\n",
    "plt.show()"
   ]
  },
  {
   "cell_type": "code",
   "execution_count": 81,
   "metadata": {},
   "outputs": [
    {
     "name": "stdout",
     "output_type": "stream",
     "text": [
      "acc \t 0.6166666666666667\n"
     ]
    }
   ],
   "source": [
    "from sklearn.metrics import accuracy_score\n",
    "from sklearn.metrics import f1_score\n",
    "df_survey[subset_true],df_survey[subset_prediction]\n",
    "print('acc \\t', accuracy_score(df_survey[subset_true],df_survey[subset_prediction]))"
   ]
  },
  {
   "cell_type": "code",
   "execution_count": 71,
   "metadata": {},
   "outputs": [
    {
     "data": {
      "text/plain": [
       "explicit_hate_prediction    1\n",
       "implicit_hate_prediction    0\n",
       "not_hate_prediction         0\n",
       "offensive_prediction        2\n",
       "dtype: int64"
      ]
     },
     "execution_count": 71,
     "metadata": {},
     "output_type": "execute_result"
    }
   ],
   "source": [
    "df_survey[subset_prediction].isnull().sum()"
   ]
  },
  {
   "cell_type": "code",
   "execution_count": null,
   "metadata": {},
   "outputs": [],
   "source": []
  }
 ],
 "metadata": {
  "kernelspec": {
   "display_name": "Python 3.8.13 ('daniel-uni-python-38')",
   "language": "python",
   "name": "python3"
  },
  "language_info": {
   "codemirror_mode": {
    "name": "ipython",
    "version": 3
   },
   "file_extension": ".py",
   "mimetype": "text/x-python",
   "name": "python",
   "nbconvert_exporter": "python",
   "pygments_lexer": "ipython3",
   "version": "3.8.13"
  },
  "orig_nbformat": 4,
  "vscode": {
   "interpreter": {
    "hash": "54be306aad20591834b2761bba5b0b67d36dbf27093c192740359f8b7efa16d2"
   }
  }
 },
 "nbformat": 4,
 "nbformat_minor": 2
}
